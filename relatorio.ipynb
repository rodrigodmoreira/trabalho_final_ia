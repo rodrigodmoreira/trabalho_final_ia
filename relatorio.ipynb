{
 "metadata": {
  "language_info": {
   "codemirror_mode": {
    "name": "ipython",
    "version": 3
   },
   "file_extension": ".py",
   "mimetype": "text/x-python",
   "name": "python",
   "nbconvert_exporter": "python",
   "pygments_lexer": "ipython3",
   "version": "3.8.5"
  },
  "orig_nbformat": 2,
  "kernelspec": {
   "name": "python3",
   "display_name": "Python 3.8.5 64-bit",
   "metadata": {
    "interpreter": {
     "hash": "31f2aee4e71d21fbe5cf8b01ff0e069b9275f58929596ceb00d14d90e3e16cd6"
    }
   }
  }
 },
 "nbformat": 4,
 "nbformat_minor": 2,
 "cells": [
  {
   "source": [
    "# Trabalho IA\n",
    "## Verificação de mensagens ofensivas por meio de deep learning e bag-of-words\n",
    "### Grupo:\n",
    "- Bruno Terra Faria Trindade\n",
    "- Gabriel Alves Barbosa\n",
    "- Gabriel Luis Silva Pereira\n",
    "- Rodrigo Dias Moreira\n",
    "- Yan Victor S. Azevedo"
   ],
   "cell_type": "markdown",
   "metadata": {}
  },
  {
   "source": [
    "### Estrutura do código\n",
    "#### base_am:\n",
    "- código/arquitetura base utilizada em práticas do professor Hasan na disciplina de Aprendizado de Máquina no CEFET-MG\n",
    "#### particular_am:\n",
    "- classes extendidas a partir do base_am que se adequam ao contexto específico deste trabalho"
   ],
   "cell_type": "markdown",
   "metadata": {}
  },
  {
   "source": [
    "### Dependências"
   ],
   "cell_type": "markdown",
   "metadata": {}
  },
  {
   "cell_type": "code",
   "execution_count": 2,
   "metadata": {},
   "outputs": [
    {
     "output_type": "stream",
     "name": "stdout",
     "text": [
      "Requirement already satisfied: pandas in /home/rodrigo/.local/lib/python3.8/site-packages (1.2.3)\n",
      "Requirement already satisfied: scikit-learn in /home/rodrigo/.local/lib/python3.8/site-packages (0.24.1)\n",
      "Requirement already satisfied: numpy in /usr/lib/python3/dist-packages (1.17.4)\n",
      "Requirement already satisfied: optuna in /home/rodrigo/.local/lib/python3.8/site-packages (2.6.0)\n",
      "Requirement already satisfied: nltk in /home/rodrigo/.local/lib/python3.8/site-packages (3.5)\n",
      "Requirement already satisfied: python-dateutil>=2.7.3 in /home/rodrigo/.local/lib/python3.8/site-packages (from pandas) (2.8.1)\n",
      "Requirement already satisfied: pytz>=2017.3 in /usr/lib/python3/dist-packages (from pandas) (2019.3)\n",
      "Requirement already satisfied: scipy>=0.19.1 in /home/rodrigo/.local/lib/python3.8/site-packages (from scikit-learn) (1.6.2)\n",
      "Requirement already satisfied: threadpoolctl>=2.0.0 in /home/rodrigo/.local/lib/python3.8/site-packages (from scikit-learn) (2.1.0)\n",
      "Requirement already satisfied: joblib>=0.11 in /home/rodrigo/.local/lib/python3.8/site-packages (from scikit-learn) (1.0.1)\n",
      "Requirement already satisfied: sqlalchemy>=1.1.0 in /home/rodrigo/.local/lib/python3.8/site-packages (from optuna) (1.4.3)\n",
      "Requirement already satisfied: packaging>=20.0 in /usr/lib/python3/dist-packages (from optuna) (20.3)\n",
      "Requirement already satisfied: tqdm in /home/rodrigo/.local/lib/python3.8/site-packages (from optuna) (4.59.0)\n",
      "Requirement already satisfied: colorlog in /home/rodrigo/.local/lib/python3.8/site-packages (from optuna) (4.8.0)\n",
      "Requirement already satisfied: cliff in /home/rodrigo/.local/lib/python3.8/site-packages (from optuna) (3.7.0)\n",
      "Requirement already satisfied: cmaes>=0.8.2 in /home/rodrigo/.local/lib/python3.8/site-packages (from optuna) (0.8.2)\n",
      "Requirement already satisfied: alembic in /home/rodrigo/.local/lib/python3.8/site-packages (from optuna) (1.5.8)\n",
      "Requirement already satisfied: click in /usr/lib/python3/dist-packages (from nltk) (7.0)\n",
      "Requirement already satisfied: regex in /home/rodrigo/.local/lib/python3.8/site-packages (from nltk) (2021.3.17)\n",
      "Requirement already satisfied: six>=1.5 in /usr/lib/python3/dist-packages (from python-dateutil>=2.7.3->pandas) (1.14.0)\n",
      "Requirement already satisfied: greenlet!=0.4.17; python_version >= \"3\" in /home/rodrigo/.local/lib/python3.8/site-packages (from sqlalchemy>=1.1.0->optuna) (1.0.0)\n",
      "Requirement already satisfied: pbr!=2.1.0,>=2.0.0 in /home/rodrigo/.local/lib/python3.8/site-packages (from cliff->optuna) (5.5.1)\n",
      "Requirement already satisfied: cmd2>=1.0.0 in /home/rodrigo/.local/lib/python3.8/site-packages (from cliff->optuna) (1.5.0)\n",
      "Requirement already satisfied: pyparsing>=2.1.0 in /usr/lib/python3/dist-packages (from cliff->optuna) (2.4.6)\n",
      "Requirement already satisfied: PrettyTable>=0.7.2 in /home/rodrigo/.local/lib/python3.8/site-packages (from cliff->optuna) (2.1.0)\n",
      "Requirement already satisfied: stevedore>=2.0.1 in /home/rodrigo/.local/lib/python3.8/site-packages (from cliff->optuna) (3.3.0)\n",
      "Requirement already satisfied: PyYAML>=3.12 in /usr/lib/python3/dist-packages (from cliff->optuna) (5.3.1)\n",
      "Requirement already satisfied: Mako in /usr/lib/python3/dist-packages (from alembic->optuna) (1.1.0)\n",
      "Requirement already satisfied: python-editor>=0.3 in /home/rodrigo/.local/lib/python3.8/site-packages (from alembic->optuna) (1.0.4)\n",
      "Requirement already satisfied: colorama>=0.3.7 in /usr/lib/python3/dist-packages (from cmd2>=1.0.0->cliff->optuna) (0.4.3)\n",
      "Requirement already satisfied: wcwidth>=0.1.7 in /home/rodrigo/.local/lib/python3.8/site-packages (from cmd2>=1.0.0->cliff->optuna) (0.2.5)\n",
      "Requirement already satisfied: attrs>=16.3.0 in /home/rodrigo/.local/lib/python3.8/site-packages (from cmd2>=1.0.0->cliff->optuna) (20.3.0)\n",
      "Requirement already satisfied: pyperclip>=1.6 in /home/rodrigo/.local/lib/python3.8/site-packages (from cmd2>=1.0.0->cliff->optuna) (1.8.2)\n"
     ]
    }
   ],
   "source": [
    "!pip3 install pandas scikit-learn numpy optuna nltk"
   ]
  },
  {
   "cell_type": "code",
   "execution_count": 3,
   "metadata": {},
   "outputs": [
    {
     "output_type": "stream",
     "name": "stdout",
     "text": [
      "/usr/lib/python3.8/runpy.py:127: RuntimeWarning: 'nltk.downloader' found in sys.modules after import of package 'nltk', but prior to execution of 'nltk.downloader'; this may result in unpredictable behaviour\n",
      "  warn(RuntimeWarning(msg))\n",
      "[nltk_data] Downloading collection 'popular'\n",
      "[nltk_data]    | \n",
      "[nltk_data]    | Downloading package cmudict to\n",
      "[nltk_data]    |     /home/rodrigo/nltk_data...\n",
      "[nltk_data]    |   Package cmudict is already up-to-date!\n",
      "[nltk_data]    | Downloading package gazetteers to\n",
      "[nltk_data]    |     /home/rodrigo/nltk_data...\n",
      "[nltk_data]    |   Package gazetteers is already up-to-date!\n",
      "[nltk_data]    | Downloading package genesis to\n",
      "[nltk_data]    |     /home/rodrigo/nltk_data...\n",
      "[nltk_data]    |   Package genesis is already up-to-date!\n",
      "[nltk_data]    | Downloading package gutenberg to\n",
      "[nltk_data]    |     /home/rodrigo/nltk_data...\n",
      "[nltk_data]    |   Package gutenberg is already up-to-date!\n",
      "[nltk_data]    | Downloading package inaugural to\n",
      "[nltk_data]    |     /home/rodrigo/nltk_data...\n",
      "[nltk_data]    |   Package inaugural is already up-to-date!\n",
      "[nltk_data]    | Downloading package movie_reviews to\n",
      "[nltk_data]    |     /home/rodrigo/nltk_data...\n",
      "[nltk_data]    |   Package movie_reviews is already up-to-date!\n",
      "[nltk_data]    | Downloading package names to\n",
      "[nltk_data]    |     /home/rodrigo/nltk_data...\n",
      "[nltk_data]    |   Package names is already up-to-date!\n",
      "[nltk_data]    | Downloading package shakespeare to\n",
      "[nltk_data]    |     /home/rodrigo/nltk_data...\n",
      "[nltk_data]    |   Package shakespeare is already up-to-date!\n",
      "[nltk_data]    | Downloading package stopwords to\n",
      "[nltk_data]    |     /home/rodrigo/nltk_data...\n",
      "[nltk_data]    |   Package stopwords is already up-to-date!\n",
      "[nltk_data]    | Downloading package treebank to\n",
      "[nltk_data]    |     /home/rodrigo/nltk_data...\n",
      "[nltk_data]    |   Package treebank is already up-to-date!\n",
      "[nltk_data]    | Downloading package twitter_samples to\n",
      "[nltk_data]    |     /home/rodrigo/nltk_data...\n",
      "[nltk_data]    |   Package twitter_samples is already up-to-date!\n",
      "[nltk_data]    | Downloading package omw to /home/rodrigo/nltk_data...\n",
      "[nltk_data]    |   Package omw is already up-to-date!\n",
      "[nltk_data]    | Downloading package wordnet to\n",
      "[nltk_data]    |     /home/rodrigo/nltk_data...\n",
      "[nltk_data]    |   Package wordnet is already up-to-date!\n",
      "[nltk_data]    | Downloading package wordnet_ic to\n",
      "[nltk_data]    |     /home/rodrigo/nltk_data...\n",
      "[nltk_data]    |   Package wordnet_ic is already up-to-date!\n",
      "[nltk_data]    | Downloading package words to\n",
      "[nltk_data]    |     /home/rodrigo/nltk_data...\n",
      "[nltk_data]    |   Package words is already up-to-date!\n",
      "[nltk_data]    | Downloading package maxent_ne_chunker to\n",
      "[nltk_data]    |     /home/rodrigo/nltk_data...\n",
      "[nltk_data]    |   Package maxent_ne_chunker is already up-to-date!\n",
      "[nltk_data]    | Downloading package punkt to\n",
      "[nltk_data]    |     /home/rodrigo/nltk_data...\n",
      "[nltk_data]    |   Package punkt is already up-to-date!\n",
      "[nltk_data]    | Downloading package snowball_data to\n",
      "[nltk_data]    |     /home/rodrigo/nltk_data...\n",
      "[nltk_data]    |   Package snowball_data is already up-to-date!\n",
      "[nltk_data]    | Downloading package averaged_perceptron_tagger to\n",
      "[nltk_data]    |     /home/rodrigo/nltk_data...\n",
      "[nltk_data]    |   Package averaged_perceptron_tagger is already up-\n",
      "[nltk_data]    |       to-date!\n",
      "[nltk_data]    | \n",
      "[nltk_data]  Done downloading collection popular\n"
     ]
    }
   ],
   "source": [
    "!python3 -m nltk.downloader popular"
   ]
  },
  {
   "source": [
    "### Execução de estudo superficial para descoberta do melhor método"
   ],
   "cell_type": "markdown",
   "metadata": {}
  },
  {
   "cell_type": "code",
   "execution_count": 4,
   "metadata": {},
   "outputs": [
    {
     "output_type": "stream",
     "name": "stdout",
     "text": [
      "\u001b[32m[I 2021-04-07 18:09:54,145]\u001b[0m A new study created in memory with name: no-name-0d1a96d7-5b7a-444d-b22f-458ea3d8dc8d\u001b[0m\n",
      "\u001b[32m[I 2021-04-07 18:10:07,741]\u001b[0m Trial 0 finished with value: 0.6875665529162825 and parameters: {'n_estimators': 101}. Best is trial 0 with value: 0.6875665529162825.\u001b[0m\n",
      "\u001b[32m[I 2021-04-07 18:10:17,987]\u001b[0m Trial 1 finished with value: 0.6785536156773798 and parameters: {'n_estimators': 76}. Best is trial 0 with value: 0.6875665529162825.\u001b[0m\n",
      "\u001b[32m[I 2021-04-07 18:10:30,366]\u001b[0m Trial 2 finished with value: 0.6882885566967827 and parameters: {'n_estimators': 73}. Best is trial 2 with value: 0.6882885566967827.\u001b[0m\n",
      "\u001b[32m[I 2021-04-07 18:10:41,550]\u001b[0m Trial 3 finished with value: 0.6837438215335445 and parameters: {'n_estimators': 69}. Best is trial 2 with value: 0.6882885566967827.\u001b[0m\n",
      "\u001b[32m[I 2021-04-07 18:11:00,884]\u001b[0m Trial 4 finished with value: 0.6850220152093409 and parameters: {'n_estimators': 128}. Best is trial 2 with value: 0.6882885566967827.\u001b[0m\n",
      "0.711906508299484\n",
      "\u001b[32m[I 2021-04-07 18:11:17,109]\u001b[0m A new study created in memory with name: no-name-c3c6de79-73f8-4793-b5af-b3d61f760b28\u001b[0m\n",
      "\u001b[32m[I 2021-04-07 18:11:18,006]\u001b[0m Trial 0 finished with value: 0.7907335581372912 and parameters: {'exp_cost': 0.2770157843063934}. Best is trial 0 with value: 0.7907335581372912.\u001b[0m\n",
      "\u001b[32m[I 2021-04-07 18:11:18,910]\u001b[0m Trial 1 finished with value: 0.7886230165982793 and parameters: {'exp_cost': 0.5587806341330127}. Best is trial 0 with value: 0.7907335581372912.\u001b[0m\n",
      "\u001b[32m[I 2021-04-07 18:11:19,833]\u001b[0m Trial 2 finished with value: 0.788485945793316 and parameters: {'exp_cost': 1.0366821811291431}. Best is trial 0 with value: 0.7907335581372912.\u001b[0m\n",
      "\u001b[32m[I 2021-04-07 18:11:20,757]\u001b[0m Trial 3 finished with value: 0.7896826703096489 and parameters: {'exp_cost': 1.1903024226920098}. Best is trial 0 with value: 0.7907335581372912.\u001b[0m\n",
      "\u001b[32m[I 2021-04-07 18:11:21,908]\u001b[0m Trial 4 finished with value: 0.7868405734323161 and parameters: {'exp_cost': 1.6164502020100708}. Best is trial 0 with value: 0.7907335581372912.\u001b[0m\n",
      "0.7845632846988696\n",
      "0.5746572505577352\n",
      "\u001b[32m[I 2021-04-07 18:11:25,559]\u001b[0m A new study created in memory with name: no-name-7455a951-dde0-4b91-adcb-f5338f4e7cfb\u001b[0m\n",
      "\u001b[32m[I 2021-04-07 18:11:52,855]\u001b[0m Trial 0 finished with value: 0.778346983403231 and parameters: {'n_first_layer': 6}. Best is trial 0 with value: 0.778346983403231.\u001b[0m\n",
      "\u001b[32m[I 2021-04-07 18:13:09,029]\u001b[0m Trial 1 finished with value: 0.7570489005733647 and parameters: {'n_first_layer': 19}. Best is trial 0 with value: 0.778346983403231.\u001b[0m\n",
      "\u001b[32m[I 2021-04-07 18:13:55,720]\u001b[0m Trial 2 finished with value: 0.7712968369342897 and parameters: {'n_first_layer': 12}. Best is trial 0 with value: 0.778346983403231.\u001b[0m\n",
      "\u001b[32m[I 2021-04-07 18:14:38,047]\u001b[0m Trial 3 finished with value: 0.7832940970650172 and parameters: {'n_first_layer': 11}. Best is trial 3 with value: 0.7832940970650172.\u001b[0m\n",
      "\u001b[32m[I 2021-04-07 18:15:45,877]\u001b[0m Trial 4 finished with value: 0.771053561844104 and parameters: {'n_first_layer': 15}. Best is trial 3 with value: 0.7832940970650172.\u001b[0m\n",
      "0.7689997549559386\n",
      "\n",
      "Melhor Macro F1 RandomForest: 0.711906508299484\n",
      "Melhor Macro F1 SVM: 0.7845632846988696\n",
      "Melhor Macro F1 GaussianNaiveBayes: 0.5746572505577352\n",
      "Melhor Macro F1 Multi-Layer Perceptron: 0.7689997549559386\n"
     ]
    }
   ],
   "source": [
    "!python3 \"estudo.py\""
   ]
  },
  {
   "source": [
    "### Escolha do melhor método e otimização de parâmetros específicos ao método selecionado"
   ],
   "cell_type": "markdown",
   "metadata": {}
  },
  {
   "cell_type": "code",
   "execution_count": 6,
   "metadata": {},
   "outputs": [
    {
     "output_type": "stream",
     "name": "stdout",
     "text": [
      "\u001b[32m[I 2021-04-07 19:49:59,248]\u001b[0m A new study created in memory with name: no-name-365b7847-9eeb-480a-a768-bf2b56bb61d5\u001b[0m\n",
      "\u001b[32m[I 2021-04-07 19:51:18,720]\u001b[0m Trial 0 finished with value: 0.7846631298770274 and parameters: {'n_first_layer': 6}. Best is trial 0 with value: 0.7846631298770274.\u001b[0m\n",
      "\u001b[32m[I 2021-04-07 19:54:27,400]\u001b[0m Trial 1 finished with value: 0.7706092202288785 and parameters: {'n_first_layer': 12}. Best is trial 0 with value: 0.7846631298770274.\u001b[0m\n",
      "\u001b[32m[I 2021-04-07 19:56:53,669]\u001b[0m Trial 2 finished with value: 0.7882878784141499 and parameters: {'n_first_layer': 13}. Best is trial 2 with value: 0.7882878784141499.\u001b[0m\n",
      "\u001b[32m[I 2021-04-07 19:58:17,975]\u001b[0m Trial 3 finished with value: 0.7902616802556903 and parameters: {'n_first_layer': 9}. Best is trial 3 with value: 0.7902616802556903.\u001b[0m\n",
      "\u001b[32m[I 2021-04-07 19:59:52,223]\u001b[0m Trial 4 finished with value: 0.7867927486359905 and parameters: {'n_first_layer': 10}. Best is trial 3 with value: 0.7902616802556903.\u001b[0m\n",
      "\u001b[32m[I 2021-04-07 20:02:06,859]\u001b[0m Trial 5 finished with value: 0.7706092202288785 and parameters: {'n_first_layer': 12}. Best is trial 3 with value: 0.7902616802556903.\u001b[0m\n",
      "\u001b[32m[I 2021-04-07 20:03:08,561]\u001b[0m Trial 6 finished with value: 0.7846631298770274 and parameters: {'n_first_layer': 6}. Best is trial 3 with value: 0.7902616802556903.\u001b[0m\n",
      "\u001b[32m[I 2021-04-07 20:05:29,518]\u001b[0m Trial 7 finished with value: 0.7861258690905306 and parameters: {'n_first_layer': 16}. Best is trial 3 with value: 0.7902616802556903.\u001b[0m\n",
      "\u001b[32m[I 2021-04-07 20:05:38,873]\u001b[0m Trial 8 finished with value: 0.7685553634201621 and parameters: {'n_first_layer': 1}. Best is trial 3 with value: 0.7902616802556903.\u001b[0m\n",
      "\u001b[32m[I 2021-04-07 20:07:45,403]\u001b[0m Trial 9 finished with value: 0.7853141765047048 and parameters: {'n_first_layer': 17}. Best is trial 3 with value: 0.7902616802556903.\u001b[0m\n",
      "\u001b[32m[I 2021-04-07 20:07:53,164]\u001b[0m Trial 10 finished with value: 0.7685553634201621 and parameters: {'n_first_layer': 1}. Best is trial 3 with value: 0.7902616802556903.\u001b[0m\n",
      "\u001b[32m[I 2021-04-07 20:08:57,059]\u001b[0m Trial 11 finished with value: 0.7840611557621056 and parameters: {'n_first_layer': 8}. Best is trial 3 with value: 0.7902616802556903.\u001b[0m\n",
      "\u001b[32m[I 2021-04-07 20:11:03,634]\u001b[0m Trial 12 finished with value: 0.7785038205819036 and parameters: {'n_first_layer': 14}. Best is trial 3 with value: 0.7902616802556903.\u001b[0m\n",
      "\u001b[32m[I 2021-04-07 20:13:59,590]\u001b[0m Trial 13 finished with value: 0.7817959733253337 and parameters: {'n_first_layer': 19}. Best is trial 3 with value: 0.7902616802556903.\u001b[0m\n",
      "\u001b[32m[I 2021-04-07 20:15:10,296]\u001b[0m Trial 14 finished with value: 0.7902616802556903 and parameters: {'n_first_layer': 9}. Best is trial 3 with value: 0.7902616802556903.\u001b[0m\n",
      "\u001b[32m[I 2021-04-07 20:15:48,432]\u001b[0m Trial 15 finished with value: 0.7808620157065359 and parameters: {'n_first_layer': 4}. Best is trial 3 with value: 0.7902616802556903.\u001b[0m\n",
      "\u001b[32m[I 2021-04-07 20:17:02,211]\u001b[0m Trial 16 finished with value: 0.7902616802556903 and parameters: {'n_first_layer': 9}. Best is trial 3 with value: 0.7902616802556903.\u001b[0m\n",
      "\u001b[32m[I 2021-04-07 20:18:06,348]\u001b[0m Trial 17 finished with value: 0.7826069209863454 and parameters: {'n_first_layer': 7}. Best is trial 3 with value: 0.7902616802556903.\u001b[0m\n",
      "\u001b[32m[I 2021-04-07 20:18:52,929]\u001b[0m Trial 18 finished with value: 0.7856877816672613 and parameters: {'n_first_layer': 3}. Best is trial 3 with value: 0.7902616802556903.\u001b[0m\n",
      "\u001b[32m[I 2021-04-07 20:19:30,524]\u001b[0m Trial 19 finished with value: 0.7808620157065359 and parameters: {'n_first_layer': 4}. Best is trial 3 with value: 0.7902616802556903.\u001b[0m\n",
      "0.7892539688389097\n",
      "\u001b[32m[I 2021-04-07 20:22:56,229]\u001b[0m A new study created in memory with name: no-name-9341a641-f4c2-4f31-b306-01f683c4b737\u001b[0m\n",
      "\u001b[32m[I 2021-04-07 20:23:27,446]\u001b[0m Trial 0 finished with value: 0.7775926918456598 and parameters: {'n_first_layer': 2}. Best is trial 0 with value: 0.7775926918456598.\u001b[0m\n",
      "\u001b[32m[I 2021-04-07 20:25:48,032]\u001b[0m Trial 1 finished with value: 0.773229232518573 and parameters: {'n_first_layer': 13}. Best is trial 0 with value: 0.7775926918456598.\u001b[0m\n",
      "\u001b[32m[I 2021-04-07 20:27:17,644]\u001b[0m Trial 2 finished with value: 0.770891847215706 and parameters: {'n_first_layer': 8}. Best is trial 0 with value: 0.7775926918456598.\u001b[0m\n",
      "\u001b[32m[I 2021-04-07 20:29:20,825]\u001b[0m Trial 3 finished with value: 0.7707130870654247 and parameters: {'n_first_layer': 14}. Best is trial 0 with value: 0.7775926918456598.\u001b[0m\n",
      "\u001b[32m[I 2021-04-07 20:30:45,734]\u001b[0m Trial 4 finished with value: 0.7768486670653203 and parameters: {'n_first_layer': 7}. Best is trial 0 with value: 0.7775926918456598.\u001b[0m\n",
      "\u001b[32m[I 2021-04-07 20:33:30,905]\u001b[0m Trial 5 finished with value: 0.7779760066142902 and parameters: {'n_first_layer': 19}. Best is trial 5 with value: 0.7779760066142902.\u001b[0m\n",
      "\u001b[32m[I 2021-04-07 20:34:31,819]\u001b[0m Trial 6 finished with value: 0.7780192138265745 and parameters: {'n_first_layer': 6}. Best is trial 6 with value: 0.7780192138265745.\u001b[0m\n",
      "\u001b[32m[I 2021-04-07 20:37:15,261]\u001b[0m Trial 7 finished with value: 0.7779760066142902 and parameters: {'n_first_layer': 19}. Best is trial 6 with value: 0.7780192138265745.\u001b[0m\n",
      "\u001b[32m[I 2021-04-07 20:39:06,075]\u001b[0m Trial 8 finished with value: 0.7761670441815371 and parameters: {'n_first_layer': 12}. Best is trial 6 with value: 0.7780192138265745.\u001b[0m\n",
      "\u001b[32m[I 2021-04-07 20:40:35,789]\u001b[0m Trial 9 finished with value: 0.7781330877629007 and parameters: {'n_first_layer': 11}. Best is trial 9 with value: 0.7781330877629007.\u001b[0m\n",
      "\u001b[32m[I 2021-04-07 20:40:44,988]\u001b[0m Trial 10 finished with value: 0.7727760809339498 and parameters: {'n_first_layer': 1}. Best is trial 9 with value: 0.7781330877629007.\u001b[0m\n",
      "\u001b[32m[I 2021-04-07 20:41:46,460]\u001b[0m Trial 11 finished with value: 0.7780192138265745 and parameters: {'n_first_layer': 6}. Best is trial 9 with value: 0.7781330877629007.\u001b[0m\n",
      "\u001b[32m[I 2021-04-07 20:42:31,451]\u001b[0m Trial 12 finished with value: 0.7760025994606816 and parameters: {'n_first_layer': 4}. Best is trial 9 with value: 0.7781330877629007.\u001b[0m\n",
      "\u001b[32m[I 2021-04-07 20:44:07,540]\u001b[0m Trial 13 finished with value: 0.7773384746597268 and parameters: {'n_first_layer': 10}. Best is trial 9 with value: 0.7781330877629007.\u001b[0m\n",
      "\u001b[32m[I 2021-04-07 20:46:31,947]\u001b[0m Trial 14 finished with value: 0.765943276890235 and parameters: {'n_first_layer': 16}. Best is trial 9 with value: 0.7781330877629007.\u001b[0m\n",
      "\u001b[32m[I 2021-04-07 20:48:07,708]\u001b[0m Trial 15 finished with value: 0.7773384746597268 and parameters: {'n_first_layer': 10}. Best is trial 9 with value: 0.7781330877629007.\u001b[0m\n",
      "\u001b[32m[I 2021-04-07 20:48:52,976]\u001b[0m Trial 16 finished with value: 0.7760025994606816 and parameters: {'n_first_layer': 4}. Best is trial 9 with value: 0.7781330877629007.\u001b[0m\n",
      "\u001b[32m[I 2021-04-07 20:51:15,112]\u001b[0m Trial 17 finished with value: 0.765943276890235 and parameters: {'n_first_layer': 16}. Best is trial 9 with value: 0.7781330877629007.\u001b[0m\n",
      "\u001b[32m[I 2021-04-07 20:52:34,477]\u001b[0m Trial 18 finished with value: 0.7791061655677449 and parameters: {'n_first_layer': 9}. Best is trial 18 with value: 0.7791061655677449.\u001b[0m\n",
      "\u001b[32m[I 2021-04-07 20:53:52,315]\u001b[0m Trial 19 finished with value: 0.7791061655677449 and parameters: {'n_first_layer': 9}. Best is trial 18 with value: 0.7791061655677449.\u001b[0m\n",
      "0.7916086730976929\n",
      "\u001b[32m[I 2021-04-07 20:58:55,079]\u001b[0m A new study created in memory with name: no-name-cf9eb3b8-d199-4732-a259-6aae3ce704df\u001b[0m\n",
      "\u001b[32m[I 2021-04-07 21:01:49,267]\u001b[0m Trial 0 finished with value: 0.7712771314344403 and parameters: {'n_first_layer': 15}. Best is trial 0 with value: 0.7712771314344403.\u001b[0m\n",
      "\u001b[32m[I 2021-04-07 21:04:33,032]\u001b[0m Trial 1 finished with value: 0.7735014859393035 and parameters: {'n_first_layer': 19}. Best is trial 1 with value: 0.7735014859393035.\u001b[0m\n",
      "\u001b[32m[I 2021-04-07 21:05:38,717]\u001b[0m Trial 2 finished with value: 0.7782562802385297 and parameters: {'n_first_layer': 5}. Best is trial 2 with value: 0.7782562802385297.\u001b[0m\n",
      "\u001b[32m[I 2021-04-07 21:07:03,595]\u001b[0m Trial 3 finished with value: 0.7797168112112505 and parameters: {'n_first_layer': 10}. Best is trial 3 with value: 0.7797168112112505.\u001b[0m\n",
      "\u001b[32m[I 2021-04-07 21:09:53,804]\u001b[0m Trial 4 finished with value: 0.7750884656443764 and parameters: {'n_first_layer': 18}. Best is trial 3 with value: 0.7797168112112505.\u001b[0m\n",
      "\u001b[32m[I 2021-04-07 21:10:05,493]\u001b[0m Trial 5 finished with value: 0.7657487448445389 and parameters: {'n_first_layer': 1}. Best is trial 3 with value: 0.7797168112112505.\u001b[0m\n",
      "\u001b[32m[I 2021-04-07 21:12:06,527]\u001b[0m Trial 6 finished with value: 0.7880108250560228 and parameters: {'n_first_layer': 14}. Best is trial 6 with value: 0.7880108250560228.\u001b[0m\n",
      "\u001b[32m[I 2021-04-07 21:13:40,717]\u001b[0m Trial 7 finished with value: 0.7797168112112505 and parameters: {'n_first_layer': 10}. Best is trial 6 with value: 0.7880108250560228.\u001b[0m\n",
      "\u001b[32m[I 2021-04-07 21:15:17,862]\u001b[0m Trial 8 finished with value: 0.7797168112112505 and parameters: {'n_first_layer': 10}. Best is trial 6 with value: 0.7880108250560228.\u001b[0m\n",
      "\u001b[32m[I 2021-04-07 21:16:36,381]\u001b[0m Trial 9 finished with value: 0.7842419188263791 and parameters: {'n_first_layer': 8}. Best is trial 6 with value: 0.7880108250560228.\u001b[0m\n",
      "\u001b[32m[I 2021-04-07 21:19:33,763]\u001b[0m Trial 10 finished with value: 0.7712771314344403 and parameters: {'n_first_layer': 15}. Best is trial 6 with value: 0.7880108250560228.\u001b[0m\n",
      "\u001b[32m[I 2021-04-07 21:20:44,017]\u001b[0m Trial 11 finished with value: 0.7836015727156157 and parameters: {'n_first_layer': 6}. Best is trial 6 with value: 0.7880108250560228.\u001b[0m\n",
      "\u001b[32m[I 2021-04-07 21:22:48,844]\u001b[0m Trial 12 finished with value: 0.7880108250560228 and parameters: {'n_first_layer': 14}. Best is trial 6 with value: 0.7880108250560228.\u001b[0m\n",
      "\u001b[32m[I 2021-04-07 21:25:54,884]\u001b[0m Trial 13 finished with value: 0.7712771314344403 and parameters: {'n_first_layer': 15}. Best is trial 6 with value: 0.7880108250560228.\u001b[0m\n",
      "\u001b[32m[I 2021-04-07 21:27:41,403]\u001b[0m Trial 14 finished with value: 0.7880108250560228 and parameters: {'n_first_layer': 14}. Best is trial 6 with value: 0.7880108250560228.\u001b[0m\n",
      "\u001b[32m[I 2021-04-07 21:29:30,227]\u001b[0m Trial 15 finished with value: 0.7836873554472001 and parameters: {'n_first_layer': 13}. Best is trial 6 with value: 0.7880108250560228.\u001b[0m\n",
      "\u001b[32m[I 2021-04-07 21:32:29,265]\u001b[0m Trial 16 finished with value: 0.7829184433515943 and parameters: {'n_first_layer': 17}. Best is trial 6 with value: 0.7880108250560228.\u001b[0m\n",
      "\u001b[32m[I 2021-04-07 21:34:11,229]\u001b[0m Trial 17 finished with value: 0.7788263390899377 and parameters: {'n_first_layer': 12}. Best is trial 6 with value: 0.7880108250560228.\u001b[0m\n",
      "\u001b[32m[I 2021-04-07 21:37:13,240]\u001b[0m Trial 18 finished with value: 0.7808352312031202 and parameters: {'n_first_layer': 20}. Best is trial 6 with value: 0.7880108250560228.\u001b[0m\n",
      "\u001b[32m[I 2021-04-07 21:39:44,882]\u001b[0m Trial 19 finished with value: 0.7829184433515943 and parameters: {'n_first_layer': 17}. Best is trial 6 with value: 0.7880108250560228.\u001b[0m\n",
      "0.7819592752926087\n",
      "\u001b[32m[I 2021-04-07 21:44:18,607]\u001b[0m A new study created in memory with name: no-name-a7968318-96dc-4f9e-a0ff-a9371e553849\u001b[0m\n",
      "\u001b[32m[I 2021-04-07 21:45:01,435]\u001b[0m Trial 0 finished with value: 0.7851335381087334 and parameters: {'n_first_layer': 2}. Best is trial 0 with value: 0.7851335381087334.\u001b[0m\n",
      "/home/rodrigo/Área de Trabalho/trabalho_IA/base_am/resultado.py:72: UndefinedMetricWarning: Não há elementos previstos para a classe 1 precisão foi definida como zero.\n",
      "  warnings.warn(\"Não há elementos previstos para a classe \"+str(classe)+\" precisão foi definida como zero.\", UndefinedMetricWarning)\n",
      "\u001b[32m[I 2021-04-07 21:45:13,501]\u001b[0m Trial 1 finished with value: 0.6062031982122806 and parameters: {'n_first_layer': 1}. Best is trial 0 with value: 0.7851335381087334.\u001b[0m\n",
      "\u001b[32m[I 2021-04-07 21:49:34,803]\u001b[0m Trial 2 finished with value: 0.7681717329046633 and parameters: {'n_first_layer': 18}. Best is trial 0 with value: 0.7851335381087334.\u001b[0m\n",
      "\u001b[32m[I 2021-04-07 21:50:49,244]\u001b[0m Trial 3 finished with value: 0.7910170652852033 and parameters: {'n_first_layer': 9}. Best is trial 3 with value: 0.7910170652852033.\u001b[0m\n",
      "\u001b[32m[I 2021-04-07 21:52:40,124]\u001b[0m Trial 4 finished with value: 0.7908277625887298 and parameters: {'n_first_layer': 14}. Best is trial 3 with value: 0.7910170652852033.\u001b[0m\n",
      "\u001b[32m[I 2021-04-07 21:56:37,639]\u001b[0m Trial 5 finished with value: 0.7667294994736363 and parameters: {'n_first_layer': 20}. Best is trial 3 with value: 0.7910170652852033.\u001b[0m\n",
      "\u001b[32m[I 2021-04-07 21:59:37,223]\u001b[0m Trial 6 finished with value: 0.7834827822278516 and parameters: {'n_first_layer': 16}. Best is trial 3 with value: 0.7910170652852033.\u001b[0m\n",
      "\u001b[32m[I 2021-04-07 22:01:31,311]\u001b[0m Trial 7 finished with value: 0.7721374195857776 and parameters: {'n_first_layer': 11}. Best is trial 3 with value: 0.7910170652852033.\u001b[0m\n",
      "\u001b[32m[I 2021-04-07 22:02:52,370]\u001b[0m Trial 8 finished with value: 0.7910170652852033 and parameters: {'n_first_layer': 9}. Best is trial 3 with value: 0.7910170652852033.\u001b[0m\n",
      "\u001b[32m[I 2021-04-07 22:04:24,496]\u001b[0m Trial 9 finished with value: 0.7789387787809173 and parameters: {'n_first_layer': 8}. Best is trial 3 with value: 0.7910170652852033.\u001b[0m\n",
      "\u001b[32m[I 2021-04-07 22:05:36,288]\u001b[0m Trial 10 finished with value: 0.7875824846745765 and parameters: {'n_first_layer': 5}. Best is trial 3 with value: 0.7910170652852033.\u001b[0m\n",
      "\u001b[32m[I 2021-04-07 22:07:04,085]\u001b[0m Trial 11 finished with value: 0.7910170652852033 and parameters: {'n_first_layer': 9}. Best is trial 3 with value: 0.7910170652852033.\u001b[0m\n",
      "\u001b[32m[I 2021-04-07 22:09:17,613]\u001b[0m Trial 12 finished with value: 0.7848341354276552 and parameters: {'n_first_layer': 12}. Best is trial 3 with value: 0.7910170652852033.\u001b[0m\n",
      "\u001b[32m[I 2021-04-07 22:10:49,895]\u001b[0m Trial 13 finished with value: 0.7825333749589413 and parameters: {'n_first_layer': 6}. Best is trial 3 with value: 0.7910170652852033.\u001b[0m\n",
      "\u001b[32m[I 2021-04-07 22:12:03,841]\u001b[0m Trial 14 finished with value: 0.7875824846745765 and parameters: {'n_first_layer': 5}. Best is trial 3 with value: 0.7910170652852033.\u001b[0m\n",
      "\u001b[32m[I 2021-04-07 22:13:42,911]\u001b[0m Trial 15 finished with value: 0.7789387787809173 and parameters: {'n_first_layer': 8}. Best is trial 3 with value: 0.7910170652852033.\u001b[0m\n",
      "\u001b[32m[I 2021-04-07 22:16:21,313]\u001b[0m Trial 16 finished with value: 0.7908277625887298 and parameters: {'n_first_layer': 14}. Best is trial 3 with value: 0.7910170652852033.\u001b[0m\n",
      "\u001b[32m[I 2021-04-07 22:18:16,741]\u001b[0m Trial 17 finished with value: 0.7862528436917355 and parameters: {'n_first_layer': 10}. Best is trial 3 with value: 0.7910170652852033.\u001b[0m\n",
      "\u001b[32m[I 2021-04-07 22:20:53,833]\u001b[0m Trial 18 finished with value: 0.7828876018769546 and parameters: {'n_first_layer': 13}. Best is trial 3 with value: 0.7910170652852033.\u001b[0m\n",
      "\u001b[32m[I 2021-04-07 22:22:10,604]\u001b[0m Trial 19 finished with value: 0.7796361768129139 and parameters: {'n_first_layer': 7}. Best is trial 3 with value: 0.7910170652852033.\u001b[0m\n",
      "0.7963180816152591\n",
      "\u001b[32m[I 2021-04-07 22:27:04,715]\u001b[0m A new study created in memory with name: no-name-a466a3a4-c9ae-4415-89b1-18ce1e1072c6\u001b[0m\n",
      "\u001b[32m[I 2021-04-07 22:27:56,187]\u001b[0m Trial 0 finished with value: 0.7814911662794037 and parameters: {'n_first_layer': 4}. Best is trial 0 with value: 0.7814911662794037.\u001b[0m\n",
      "\u001b[32m[I 2021-04-07 22:29:13,031]\u001b[0m Trial 1 finished with value: 0.7816634746263815 and parameters: {'n_first_layer': 7}. Best is trial 1 with value: 0.7816634746263815.\u001b[0m\n",
      "\u001b[32m[I 2021-04-07 22:32:48,021]\u001b[0m Trial 2 finished with value: 0.7737880323466007 and parameters: {'n_first_layer': 18}. Best is trial 1 with value: 0.7816634746263815.\u001b[0m\n",
      "\u001b[32m[I 2021-04-07 22:33:38,568]\u001b[0m Trial 3 finished with value: 0.7814911662794037 and parameters: {'n_first_layer': 4}. Best is trial 1 with value: 0.7816634746263815.\u001b[0m\n",
      "\u001b[32m[I 2021-04-07 22:34:44,488]\u001b[0m Trial 4 finished with value: 0.779943336136655 and parameters: {'n_first_layer': 5}. Best is trial 1 with value: 0.7816634746263815.\u001b[0m\n",
      "\u001b[32m[I 2021-04-07 22:37:45,496]\u001b[0m Trial 5 finished with value: 0.7737880323466007 and parameters: {'n_first_layer': 18}. Best is trial 1 with value: 0.7816634746263815.\u001b[0m\n",
      "\u001b[32m[I 2021-04-07 22:39:22,170]\u001b[0m Trial 6 finished with value: 0.7829554225604098 and parameters: {'n_first_layer': 12}. Best is trial 6 with value: 0.7829554225604098.\u001b[0m\n",
      "\u001b[32m[I 2021-04-07 22:41:33,103]\u001b[0m Trial 7 finished with value: 0.7729435385767924 and parameters: {'n_first_layer': 13}. Best is trial 6 with value: 0.7829554225604098.\u001b[0m\n",
      "\u001b[32m[I 2021-04-07 22:43:46,679]\u001b[0m Trial 8 finished with value: 0.7766262766455628 and parameters: {'n_first_layer': 17}. Best is trial 6 with value: 0.7829554225604098.\u001b[0m\n",
      "\u001b[32m[I 2021-04-07 22:46:04,031]\u001b[0m Trial 9 finished with value: 0.7659882501264107 and parameters: {'n_first_layer': 14}. Best is trial 6 with value: 0.7829554225604098.\u001b[0m\n",
      "\u001b[32m[I 2021-04-07 22:47:33,636]\u001b[0m Trial 10 finished with value: 0.7773891115206256 and parameters: {'n_first_layer': 9}. Best is trial 6 with value: 0.7829554225604098.\u001b[0m\n",
      "\u001b[32m[I 2021-04-07 22:49:02,496]\u001b[0m Trial 11 finished with value: 0.7773891115206256 and parameters: {'n_first_layer': 9}. Best is trial 6 with value: 0.7829554225604098.\u001b[0m\n",
      "\u001b[32m[I 2021-04-07 22:50:10,446]\u001b[0m Trial 12 finished with value: 0.7816634746263815 and parameters: {'n_first_layer': 7}. Best is trial 6 with value: 0.7829554225604098.\u001b[0m\n",
      "\u001b[32m[I 2021-04-07 22:50:23,460]\u001b[0m Trial 13 finished with value: 0.761400151026331 and parameters: {'n_first_layer': 1}. Best is trial 6 with value: 0.7829554225604098.\u001b[0m\n",
      "\u001b[32m[I 2021-04-07 22:53:24,192]\u001b[0m Trial 14 finished with value: 0.7729435385767924 and parameters: {'n_first_layer': 13}. Best is trial 6 with value: 0.7829554225604098.\u001b[0m\n",
      "\u001b[32m[I 2021-04-07 22:55:24,672]\u001b[0m Trial 15 finished with value: 0.7829554225604098 and parameters: {'n_first_layer': 12}. Best is trial 6 with value: 0.7829554225604098.\u001b[0m\n",
      "\u001b[32m[I 2021-04-07 22:58:31,579]\u001b[0m Trial 16 finished with value: 0.7655053577132517 and parameters: {'n_first_layer': 15}. Best is trial 6 with value: 0.7829554225604098.\u001b[0m\n",
      "\u001b[32m[I 2021-04-07 23:00:07,502]\u001b[0m Trial 17 finished with value: 0.7751380246171783 and parameters: {'n_first_layer': 11}. Best is trial 6 with value: 0.7829554225604098.\u001b[0m\n",
      "\u001b[32m[I 2021-04-07 23:02:53,071]\u001b[0m Trial 18 finished with value: 0.7787251597981742 and parameters: {'n_first_layer': 20}. Best is trial 6 with value: 0.7829554225604098.\u001b[0m\n",
      "\u001b[32m[I 2021-04-07 23:04:30,045]\u001b[0m Trial 19 finished with value: 0.7751380246171783 and parameters: {'n_first_layer': 11}. Best is trial 6 with value: 0.7829554225604098.\u001b[0m\n",
      "0.7999790345315128\n",
      "\n",
      "Melhor Macro F1 mlp: 0.7918238066751967\n",
      "Melhores parâmetros: {'n_first_layer': 9}\n"
     ]
    }
   ],
   "source": [
    "!python3 \"otimizacao.py\""
   ]
  },
  {
   "source": [
    "### Treinamento do modelo e predição dos dados de teste"
   ],
   "cell_type": "markdown",
   "metadata": {}
  },
  {
   "cell_type": "code",
   "execution_count": 8,
   "metadata": {},
   "outputs": [
    {
     "output_type": "stream",
     "name": "stdout",
     "text": [
      "\n=============== TESTE ================\n\nMacro F1: 0.7942912300002971\n\nMatriz de confusão:\n[[1812.  183.]\n [ 224.  452.]]\n\nRelatório de classificação:\n              precision    recall  f1-score   support\n\n           0       0.89      0.91      0.90      1995\n           1       0.71      0.67      0.69       676\n\n    accuracy                           0.85      2671\n   macro avg       0.80      0.79      0.79      2671\nweighted avg       0.84      0.85      0.85      2671\n\n"
     ]
    }
   ],
   "source": [
    "!python3 \"teste.py\""
   ]
  }
 ]
}