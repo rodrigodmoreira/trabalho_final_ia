{
 "metadata": {
  "language_info": {
   "codemirror_mode": {
    "name": "ipython",
    "version": 3
   },
   "file_extension": ".py",
   "mimetype": "text/x-python",
   "name": "python",
   "nbconvert_exporter": "python",
   "pygments_lexer": "ipython3",
   "version": "3.8.5"
  },
  "orig_nbformat": 2,
  "kernelspec": {
   "name": "python3",
   "display_name": "Python 3.8.5 64-bit",
   "metadata": {
    "interpreter": {
     "hash": "31f2aee4e71d21fbe5cf8b01ff0e069b9275f58929596ceb00d14d90e3e16cd6"
    }
   }
  }
 },
 "nbformat": 4,
 "nbformat_minor": 2,
 "cells": [
  {
   "source": [
    "# Trabalho IA\n",
    "## Verificação de mensagens ofensivas por meio de deep learning e bag-of-words\n",
    "### Grupo:\n",
    "- Bruno Terra Faria Trindade\n",
    "- Gabriel Alves Barbosa\n",
    "- Gabriel Luis Silva Pereira\n",
    "- Rodrigo Dias Moreira\n",
    "- Yan Victor S. Azevedo"
   ],
   "cell_type": "markdown",
   "metadata": {}
  },
  {
   "source": [
    "### Estrutura do código\n",
    "#### base_am:\n",
    "- código/arquitetura base utilizada em práticas do professor Hasan na disciplina de Aprendizado de Máquina no CEFET-MG\n",
    "#### particular_am:\n",
    "- classes extendidas a partir do base_am que se adequam ao contexto específico deste trabalho"
   ],
   "cell_type": "markdown",
   "metadata": {}
  },
  {
   "source": [
    "### Dependências"
   ],
   "cell_type": "markdown",
   "metadata": {}
  },
  {
   "cell_type": "code",
   "execution_count": null,
   "metadata": {},
   "outputs": [],
   "source": [
    "!pip3 install pandas scikit-learn numpy optuna nltk"
   ]
  },
  {
   "cell_type": "code",
   "execution_count": null,
   "metadata": {},
   "outputs": [],
   "source": [
    "!python3 -m nltk.downloader popular"
   ]
  },
  {
   "source": [
    "### Execução de estudo superficial para descoberta do melhor método"
   ],
   "cell_type": "markdown",
   "metadata": {}
  },
  {
   "cell_type": "code",
   "execution_count": null,
   "metadata": {},
   "outputs": [],
   "source": [
    "!python3 \"estudo.py\""
   ]
  },
  {
   "source": [
    "### Escolha do melhor método e otimização de parâmetros específicos ao método selecionado"
   ],
   "cell_type": "markdown",
   "metadata": {}
  },
  {
   "cell_type": "code",
   "execution_count": null,
   "metadata": {},
   "outputs": [],
   "source": [
    "!python3 \"otimizacao.py\""
   ]
  },
  {
   "source": [
    "### Treinamento do modelo e predição dos dados de teste"
   ],
   "cell_type": "markdown",
   "metadata": {}
  },
  {
   "cell_type": "code",
   "execution_count": null,
   "metadata": {},
   "outputs": [],
   "source": [
    "!python3 \"teste.py\""
   ]
  }
 ]
}