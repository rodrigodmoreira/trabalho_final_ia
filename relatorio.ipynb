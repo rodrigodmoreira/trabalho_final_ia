{
 "metadata": {
  "language_info": {
   "codemirror_mode": {
    "name": "ipython",
    "version": 3
   },
   "file_extension": ".py",
   "mimetype": "text/x-python",
   "name": "python",
   "nbconvert_exporter": "python",
   "pygments_lexer": "ipython3",
   "version": "3.8.5"
  },
  "orig_nbformat": 2,
  "kernelspec": {
   "name": "python3",
   "display_name": "Python 3.8.5 64-bit",
   "metadata": {
    "interpreter": {
     "hash": "31f2aee4e71d21fbe5cf8b01ff0e069b9275f58929596ceb00d14d90e3e16cd6"
    }
   }
  }
 },
 "nbformat": 4,
 "nbformat_minor": 2,
 "cells": [
  {
   "source": [
    "# Trabalho IA\n",
    "## Verificação de mensagens ofensivas por meio de deep learning e bag-of-words\n",
    "### Grupo:\n",
    "- Bruno Terra Faria Trindade\n",
    "- Gabriel Alves Barbosa\n",
    "- Gabriel Luis Silva Pereira\n",
    "- Rodrigo Dias Moreira\n",
    "- Yan Victor S. Azevedo"
   ],
   "cell_type": "markdown",
   "metadata": {}
  },
  {
   "source": [
    "### Estrutura do código\n",
    "#### base_am:\n",
    "- código/arquitetura base utilizada em práticas do professor Hasan na disciplina de Aprendizado de Máquina no CEFET-MG\n",
    "#### particular_am:\n",
    "- classes extendidas a partir do base_am que se adequam ao contexto específico deste trabalho"
   ],
   "cell_type": "markdown",
   "metadata": {}
  },
  {
   "source": [
    "### Dependências"
   ],
   "cell_type": "markdown",
   "metadata": {}
  },
  {
   "cell_type": "code",
   "execution_count": 7,
   "metadata": {},
   "outputs": [
    {
     "output_type": "stream",
     "name": "stdout",
     "text": [
      "Requirement already satisfied: pandas in /home/rodrigo/.local/lib/python3.8/site-packages (1.2.3)\n",
      "Requirement already satisfied: scikit-learn in /home/rodrigo/.local/lib/python3.8/site-packages (0.24.1)\n",
      "Requirement already satisfied: numpy in /usr/lib/python3/dist-packages (1.17.4)\n",
      "Requirement already satisfied: optuna in /home/rodrigo/.local/lib/python3.8/site-packages (2.6.0)\n",
      "Requirement already satisfied: nltk in /home/rodrigo/.local/lib/python3.8/site-packages (3.5)\n",
      "Requirement already satisfied: pytz>=2017.3 in /usr/lib/python3/dist-packages (from pandas) (2019.3)\n",
      "Requirement already satisfied: python-dateutil>=2.7.3 in /home/rodrigo/.local/lib/python3.8/site-packages (from pandas) (2.8.1)\n",
      "Requirement already satisfied: joblib>=0.11 in /home/rodrigo/.local/lib/python3.8/site-packages (from scikit-learn) (1.0.1)\n",
      "Requirement already satisfied: threadpoolctl>=2.0.0 in /home/rodrigo/.local/lib/python3.8/site-packages (from scikit-learn) (2.1.0)\n",
      "Requirement already satisfied: scipy>=0.19.1 in /home/rodrigo/.local/lib/python3.8/site-packages (from scikit-learn) (1.6.2)\n",
      "Requirement already satisfied: colorlog in /home/rodrigo/.local/lib/python3.8/site-packages (from optuna) (4.8.0)\n",
      "Requirement already satisfied: alembic in /home/rodrigo/.local/lib/python3.8/site-packages (from optuna) (1.5.8)\n",
      "Requirement already satisfied: cmaes>=0.8.2 in /home/rodrigo/.local/lib/python3.8/site-packages (from optuna) (0.8.2)\n",
      "Requirement already satisfied: sqlalchemy>=1.1.0 in /home/rodrigo/.local/lib/python3.8/site-packages (from optuna) (1.4.3)\n",
      "Requirement already satisfied: cliff in /home/rodrigo/.local/lib/python3.8/site-packages (from optuna) (3.7.0)\n",
      "Requirement already satisfied: packaging>=20.0 in /usr/lib/python3/dist-packages (from optuna) (20.3)\n",
      "Requirement already satisfied: tqdm in /home/rodrigo/.local/lib/python3.8/site-packages (from optuna) (4.59.0)\n",
      "Requirement already satisfied: click in /usr/lib/python3/dist-packages (from nltk) (7.0)\n",
      "Requirement already satisfied: regex in /home/rodrigo/.local/lib/python3.8/site-packages (from nltk) (2021.3.17)\n",
      "Requirement already satisfied: six>=1.5 in /usr/lib/python3/dist-packages (from python-dateutil>=2.7.3->pandas) (1.14.0)\n",
      "Requirement already satisfied: Mako in /usr/lib/python3/dist-packages (from alembic->optuna) (1.1.0)\n",
      "Requirement already satisfied: python-editor>=0.3 in /home/rodrigo/.local/lib/python3.8/site-packages (from alembic->optuna) (1.0.4)\n",
      "Requirement already satisfied: greenlet!=0.4.17; python_version >= \"3\" in /home/rodrigo/.local/lib/python3.8/site-packages (from sqlalchemy>=1.1.0->optuna) (1.0.0)\n",
      "Requirement already satisfied: pyparsing>=2.1.0 in /usr/lib/python3/dist-packages (from cliff->optuna) (2.4.6)\n",
      "Requirement already satisfied: PyYAML>=3.12 in /usr/lib/python3/dist-packages (from cliff->optuna) (5.3.1)\n",
      "Requirement already satisfied: pbr!=2.1.0,>=2.0.0 in /home/rodrigo/.local/lib/python3.8/site-packages (from cliff->optuna) (5.5.1)\n",
      "Requirement already satisfied: stevedore>=2.0.1 in /home/rodrigo/.local/lib/python3.8/site-packages (from cliff->optuna) (3.3.0)\n",
      "Requirement already satisfied: PrettyTable>=0.7.2 in /home/rodrigo/.local/lib/python3.8/site-packages (from cliff->optuna) (2.1.0)\n",
      "Requirement already satisfied: cmd2>=1.0.0 in /home/rodrigo/.local/lib/python3.8/site-packages (from cliff->optuna) (1.5.0)\n",
      "Requirement already satisfied: wcwidth in /home/rodrigo/.local/lib/python3.8/site-packages (from PrettyTable>=0.7.2->cliff->optuna) (0.2.5)\n",
      "Requirement already satisfied: colorama>=0.3.7 in /usr/lib/python3/dist-packages (from cmd2>=1.0.0->cliff->optuna) (0.4.3)\n",
      "Requirement already satisfied: attrs>=16.3.0 in /home/rodrigo/.local/lib/python3.8/site-packages (from cmd2>=1.0.0->cliff->optuna) (20.3.0)\n",
      "Requirement already satisfied: pyperclip>=1.6 in /home/rodrigo/.local/lib/python3.8/site-packages (from cmd2>=1.0.0->cliff->optuna) (1.8.2)\n"
     ]
    }
   ],
   "source": [
    "!pip3 install pandas scikit-learn numpy optuna nltk"
   ]
  },
  {
   "cell_type": "code",
   "execution_count": 9,
   "metadata": {},
   "outputs": [
    {
     "output_type": "stream",
     "name": "stdout",
     "text": [
      "/usr/lib/python3.8/runpy.py:127: RuntimeWarning: 'nltk.downloader' found in sys.modules after import of package 'nltk', but prior to execution of 'nltk.downloader'; this may result in unpredictable behaviour\n",
      "  warn(RuntimeWarning(msg))\n",
      "[nltk_data] Downloading collection 'popular'\n",
      "[nltk_data]    | \n",
      "[nltk_data]    | Downloading package cmudict to\n",
      "[nltk_data]    |     /home/rodrigo/nltk_data...\n",
      "[nltk_data]    |   Package cmudict is already up-to-date!\n",
      "[nltk_data]    | Downloading package gazetteers to\n",
      "[nltk_data]    |     /home/rodrigo/nltk_data...\n",
      "[nltk_data]    |   Package gazetteers is already up-to-date!\n",
      "[nltk_data]    | Downloading package genesis to\n",
      "[nltk_data]    |     /home/rodrigo/nltk_data...\n",
      "[nltk_data]    |   Package genesis is already up-to-date!\n",
      "[nltk_data]    | Downloading package gutenberg to\n",
      "[nltk_data]    |     /home/rodrigo/nltk_data...\n",
      "[nltk_data]    |   Package gutenberg is already up-to-date!\n",
      "[nltk_data]    | Downloading package inaugural to\n",
      "[nltk_data]    |     /home/rodrigo/nltk_data...\n",
      "[nltk_data]    |   Package inaugural is already up-to-date!\n",
      "[nltk_data]    | Downloading package movie_reviews to\n",
      "[nltk_data]    |     /home/rodrigo/nltk_data...\n",
      "[nltk_data]    |   Package movie_reviews is already up-to-date!\n",
      "[nltk_data]    | Downloading package names to\n",
      "[nltk_data]    |     /home/rodrigo/nltk_data...\n",
      "[nltk_data]    |   Package names is already up-to-date!\n",
      "[nltk_data]    | Downloading package shakespeare to\n",
      "[nltk_data]    |     /home/rodrigo/nltk_data...\n",
      "[nltk_data]    |   Package shakespeare is already up-to-date!\n",
      "[nltk_data]    | Downloading package stopwords to\n",
      "[nltk_data]    |     /home/rodrigo/nltk_data...\n",
      "[nltk_data]    |   Package stopwords is already up-to-date!\n",
      "[nltk_data]    | Downloading package treebank to\n",
      "[nltk_data]    |     /home/rodrigo/nltk_data...\n",
      "[nltk_data]    |   Package treebank is already up-to-date!\n",
      "[nltk_data]    | Downloading package twitter_samples to\n",
      "[nltk_data]    |     /home/rodrigo/nltk_data...\n",
      "[nltk_data]    |   Package twitter_samples is already up-to-date!\n",
      "[nltk_data]    | Downloading package omw to /home/rodrigo/nltk_data...\n",
      "[nltk_data]    |   Package omw is already up-to-date!\n",
      "[nltk_data]    | Downloading package wordnet to\n",
      "[nltk_data]    |     /home/rodrigo/nltk_data...\n",
      "[nltk_data]    |   Package wordnet is already up-to-date!\n",
      "[nltk_data]    | Downloading package wordnet_ic to\n",
      "[nltk_data]    |     /home/rodrigo/nltk_data...\n",
      "[nltk_data]    |   Package wordnet_ic is already up-to-date!\n",
      "[nltk_data]    | Downloading package words to\n",
      "[nltk_data]    |     /home/rodrigo/nltk_data...\n",
      "[nltk_data]    |   Package words is already up-to-date!\n",
      "[nltk_data]    | Downloading package maxent_ne_chunker to\n",
      "[nltk_data]    |     /home/rodrigo/nltk_data...\n",
      "[nltk_data]    |   Package maxent_ne_chunker is already up-to-date!\n",
      "[nltk_data]    | Downloading package punkt to\n",
      "[nltk_data]    |     /home/rodrigo/nltk_data...\n",
      "[nltk_data]    |   Package punkt is already up-to-date!\n",
      "[nltk_data]    | Downloading package snowball_data to\n",
      "[nltk_data]    |     /home/rodrigo/nltk_data...\n",
      "[nltk_data]    |   Package snowball_data is already up-to-date!\n",
      "[nltk_data]    | Downloading package averaged_perceptron_tagger to\n",
      "[nltk_data]    |     /home/rodrigo/nltk_data...\n",
      "[nltk_data]    |   Package averaged_perceptron_tagger is already up-\n",
      "[nltk_data]    |       to-date!\n",
      "[nltk_data]    | \n",
      "[nltk_data]  Done downloading collection popular\n"
     ]
    }
   ],
   "source": [
    "!python3 -m nltk.downloader popular"
   ]
  },
  {
   "source": [
    "### Execução de estudo superficial para descoberta do melhor método"
   ],
   "cell_type": "markdown",
   "metadata": {}
  },
  {
   "cell_type": "code",
   "execution_count": 11,
   "metadata": {},
   "outputs": [
    {
     "output_type": "stream",
     "name": "stdout",
     "text": [
      "\u001b[32m[I 2021-04-04 00:23:59,924]\u001b[0m A new study created in memory with name: no-name-5f651a6d-022d-48b4-808d-8465d3f6dc13\u001b[0m\n",
      "\u001b[32m[I 2021-04-04 00:24:16,424]\u001b[0m Trial 0 finished with value: 0.6809924788835444 and parameters: {'n_estimators': 101}. Best is trial 0 with value: 0.6809924788835444.\u001b[0m\n",
      "\u001b[32m[I 2021-04-04 00:24:30,785]\u001b[0m Trial 1 finished with value: 0.6701030508831488 and parameters: {'n_estimators': 76}. Best is trial 0 with value: 0.6809924788835444.\u001b[0m\n",
      "\u001b[32m[I 2021-04-04 00:24:42,159]\u001b[0m Trial 2 finished with value: 0.6768241933697585 and parameters: {'n_estimators': 73}. Best is trial 0 with value: 0.6809924788835444.\u001b[0m\n",
      "\u001b[32m[I 2021-04-04 00:24:52,953]\u001b[0m Trial 3 finished with value: 0.6731509200698679 and parameters: {'n_estimators': 69}. Best is trial 0 with value: 0.6809924788835444.\u001b[0m\n",
      "\u001b[32m[I 2021-04-04 00:25:13,490]\u001b[0m Trial 4 finished with value: 0.6788055605978174 and parameters: {'n_estimators': 128}. Best is trial 0 with value: 0.6809924788835444.\u001b[0m\n",
      "0.7220389013771211\n",
      "\u001b[32m[I 2021-04-04 00:25:39,539]\u001b[0m A new study created in memory with name: no-name-fd2cd630-928c-4a5e-b575-bed1a4dfbc87\u001b[0m\n",
      "\u001b[32m[I 2021-04-04 00:25:40,888]\u001b[0m Trial 0 finished with value: 0.7406103358732976 and parameters: {'exp_cost': 0.2770157843063934}. Best is trial 0 with value: 0.7406103358732976.\u001b[0m\n",
      "\u001b[32m[I 2021-04-04 00:25:41,979]\u001b[0m Trial 1 finished with value: 0.7365843040871223 and parameters: {'exp_cost': 0.5587806341330127}. Best is trial 0 with value: 0.7406103358732976.\u001b[0m\n",
      "\u001b[32m[I 2021-04-04 00:25:42,930]\u001b[0m Trial 2 finished with value: 0.7341291365254106 and parameters: {'exp_cost': 1.0366821811291431}. Best is trial 0 with value: 0.7406103358732976.\u001b[0m\n",
      "\u001b[32m[I 2021-04-04 00:25:43,872]\u001b[0m Trial 3 finished with value: 0.733395471174163 and parameters: {'exp_cost': 1.1903024226920098}. Best is trial 0 with value: 0.7406103358732976.\u001b[0m\n",
      "\u001b[32m[I 2021-04-04 00:25:45,300]\u001b[0m Trial 4 finished with value: 0.7341314177546533 and parameters: {'exp_cost': 1.6164502020100708}. Best is trial 0 with value: 0.7406103358732976.\u001b[0m\n",
      "0.7649569162175296\n",
      "0.5879256399817597\n",
      "\n",
      "Melhor Macro F1 RandomForest: 0.7220389013771211\n",
      "Melhor Macro F1 SVM: 0.7649569162175296\n",
      "Melhor Macro F1 GaussianNaiveBayes: 0.5879256399817597\n"
     ]
    }
   ],
   "source": [
    "!python3 \"estudo.py\""
   ]
  },
  {
   "source": [
    "### Escolha do melhor método e otimização de parâmetros específicos ao método selecionado"
   ],
   "cell_type": "markdown",
   "metadata": {}
  },
  {
   "cell_type": "code",
   "execution_count": 12,
   "metadata": {},
   "outputs": [
    {
     "output_type": "stream",
     "name": "stdout",
     "text": [
      "\u001b[32m[I 2021-04-04 00:26:21,312]\u001b[0m A new study created in memory with name: no-name-96a9c6f1-9ce8-4b49-8ed0-8cc9cd1d8184\u001b[0m\n",
      "\u001b[32m[I 2021-04-04 00:26:40,305]\u001b[0m Trial 0 finished with value: 0.7601181911997759 and parameters: {'exp_cost': 1.251066014107722}. Best is trial 0 with value: 0.7601181911997759.\u001b[0m\n",
      "0.766617505218088\n",
      "\n",
      "Melhor Macro F1 SVM: 0.766617505218088\n",
      "Melhores parâmetros: {'exp_cost': 1.251066014107722}\n"
     ]
    }
   ],
   "source": [
    "!python3 \"otimizacao.py\""
   ]
  },
  {
   "source": [
    "### Treinamento do modelo e predição dos dados de teste"
   ],
   "cell_type": "markdown",
   "metadata": {}
  },
  {
   "cell_type": "code",
   "execution_count": 13,
   "metadata": {},
   "outputs": [
    {
     "output_type": "stream",
     "name": "stdout",
     "text": [
      "\n=============== TESTE ================\n\nMacro F1: 0.7733981368001986\n\nMatriz de confusão:\n[[1078.  153.]\n [ 213.  411.]]\n\nRelatório de classificação:\n              precision    recall  f1-score   support\n\n           0       0.84      0.88      0.85      1231\n           1       0.73      0.66      0.69       624\n\n    accuracy                           0.80      1855\n   macro avg       0.78      0.77      0.77      1855\nweighted avg       0.80      0.80      0.80      1855\n\n"
     ]
    }
   ],
   "source": [
    "!python3 \"teste.py\""
   ]
  }
 ]
}